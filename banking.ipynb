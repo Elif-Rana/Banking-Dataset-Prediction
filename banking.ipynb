{
 "cells": [
  {
   "cell_type": "code",
   "execution_count": 121,
   "id": "initial_id",
   "metadata": {
    "collapsed": true,
    "ExecuteTime": {
     "end_time": "2024-04-04T13:05:20.854540700Z",
     "start_time": "2024-04-04T13:05:20.833510800Z"
    }
   },
   "outputs": [],
   "source": [
    "import pandas as pd\n",
    "import numpy as np\n",
    "import os\n",
    "\n",
    "from sklearn.preprocessing import OrdinalEncoder"
   ]
  },
  {
   "cell_type": "markdown",
   "source": [
    "### Upload Data"
   ],
   "metadata": {
    "collapsed": false
   },
   "id": "a75c99dac0a89784"
  },
  {
   "cell_type": "code",
   "outputs": [
    {
     "data": {
      "text/plain": "   age           job  marital  education default  balance housing loan  \\\n0   58    management  married   tertiary      no     2143     yes   no   \n1   44    technician   single  secondary      no       29     yes   no   \n2   33  entrepreneur  married  secondary      no        2     yes  yes   \n3   47   blue-collar  married    unknown      no     1506     yes   no   \n4   33       unknown   single    unknown      no        1      no   no   \n\n   contact  day month  duration  campaign  pdays  previous poutcome   y  \n0  unknown    5   may       261         1     -1         0  unknown  no  \n1  unknown    5   may       151         1     -1         0  unknown  no  \n2  unknown    5   may        76         1     -1         0  unknown  no  \n3  unknown    5   may        92         1     -1         0  unknown  no  \n4  unknown    5   may       198         1     -1         0  unknown  no  ",
      "text/html": "<div>\n<style scoped>\n    .dataframe tbody tr th:only-of-type {\n        vertical-align: middle;\n    }\n\n    .dataframe tbody tr th {\n        vertical-align: top;\n    }\n\n    .dataframe thead th {\n        text-align: right;\n    }\n</style>\n<table border=\"1\" class=\"dataframe\">\n  <thead>\n    <tr style=\"text-align: right;\">\n      <th></th>\n      <th>age</th>\n      <th>job</th>\n      <th>marital</th>\n      <th>education</th>\n      <th>default</th>\n      <th>balance</th>\n      <th>housing</th>\n      <th>loan</th>\n      <th>contact</th>\n      <th>day</th>\n      <th>month</th>\n      <th>duration</th>\n      <th>campaign</th>\n      <th>pdays</th>\n      <th>previous</th>\n      <th>poutcome</th>\n      <th>y</th>\n    </tr>\n  </thead>\n  <tbody>\n    <tr>\n      <th>0</th>\n      <td>58</td>\n      <td>management</td>\n      <td>married</td>\n      <td>tertiary</td>\n      <td>no</td>\n      <td>2143</td>\n      <td>yes</td>\n      <td>no</td>\n      <td>unknown</td>\n      <td>5</td>\n      <td>may</td>\n      <td>261</td>\n      <td>1</td>\n      <td>-1</td>\n      <td>0</td>\n      <td>unknown</td>\n      <td>no</td>\n    </tr>\n    <tr>\n      <th>1</th>\n      <td>44</td>\n      <td>technician</td>\n      <td>single</td>\n      <td>secondary</td>\n      <td>no</td>\n      <td>29</td>\n      <td>yes</td>\n      <td>no</td>\n      <td>unknown</td>\n      <td>5</td>\n      <td>may</td>\n      <td>151</td>\n      <td>1</td>\n      <td>-1</td>\n      <td>0</td>\n      <td>unknown</td>\n      <td>no</td>\n    </tr>\n    <tr>\n      <th>2</th>\n      <td>33</td>\n      <td>entrepreneur</td>\n      <td>married</td>\n      <td>secondary</td>\n      <td>no</td>\n      <td>2</td>\n      <td>yes</td>\n      <td>yes</td>\n      <td>unknown</td>\n      <td>5</td>\n      <td>may</td>\n      <td>76</td>\n      <td>1</td>\n      <td>-1</td>\n      <td>0</td>\n      <td>unknown</td>\n      <td>no</td>\n    </tr>\n    <tr>\n      <th>3</th>\n      <td>47</td>\n      <td>blue-collar</td>\n      <td>married</td>\n      <td>unknown</td>\n      <td>no</td>\n      <td>1506</td>\n      <td>yes</td>\n      <td>no</td>\n      <td>unknown</td>\n      <td>5</td>\n      <td>may</td>\n      <td>92</td>\n      <td>1</td>\n      <td>-1</td>\n      <td>0</td>\n      <td>unknown</td>\n      <td>no</td>\n    </tr>\n    <tr>\n      <th>4</th>\n      <td>33</td>\n      <td>unknown</td>\n      <td>single</td>\n      <td>unknown</td>\n      <td>no</td>\n      <td>1</td>\n      <td>no</td>\n      <td>no</td>\n      <td>unknown</td>\n      <td>5</td>\n      <td>may</td>\n      <td>198</td>\n      <td>1</td>\n      <td>-1</td>\n      <td>0</td>\n      <td>unknown</td>\n      <td>no</td>\n    </tr>\n  </tbody>\n</table>\n</div>"
     },
     "execution_count": 122,
     "metadata": {},
     "output_type": "execute_result"
    }
   ],
   "source": [
    "path = os.getcwd()\n",
    "train = pd.read_csv(f\"{path}\\\\train.csv\", sep=';')\n",
    "test = pd.read_csv(f\"{path}\\\\test.csv\", sep=';')\n",
    "data = pd.concat([train, test])\n",
    "data.head()"
   ],
   "metadata": {
    "collapsed": false,
    "ExecuteTime": {
     "end_time": "2024-04-04T13:05:21.307538300Z",
     "start_time": "2024-04-04T13:05:21.161511Z"
    }
   },
   "id": "e32eda2057a1542b",
   "execution_count": 122
  },
  {
   "cell_type": "code",
   "outputs": [
    {
     "name": "stdout",
     "output_type": "stream",
     "text": [
      "<class 'pandas.core.frame.DataFrame'>\n",
      "Index: 49732 entries, 0 to 4520\n",
      "Data columns (total 17 columns):\n",
      " #   Column     Non-Null Count  Dtype \n",
      "---  ------     --------------  ----- \n",
      " 0   age        49732 non-null  int64 \n",
      " 1   job        49732 non-null  object\n",
      " 2   marital    49732 non-null  object\n",
      " 3   education  49732 non-null  object\n",
      " 4   default    49732 non-null  object\n",
      " 5   balance    49732 non-null  int64 \n",
      " 6   housing    49732 non-null  object\n",
      " 7   loan       49732 non-null  object\n",
      " 8   contact    49732 non-null  object\n",
      " 9   day        49732 non-null  int64 \n",
      " 10  month      49732 non-null  object\n",
      " 11  duration   49732 non-null  int64 \n",
      " 12  campaign   49732 non-null  int64 \n",
      " 13  pdays      49732 non-null  int64 \n",
      " 14  previous   49732 non-null  int64 \n",
      " 15  poutcome   49732 non-null  object\n",
      " 16  y          49732 non-null  object\n",
      "dtypes: int64(7), object(10)\n",
      "memory usage: 6.8+ MB\n"
     ]
    }
   ],
   "source": [
    "data.info()"
   ],
   "metadata": {
    "collapsed": false,
    "ExecuteTime": {
     "end_time": "2024-04-04T13:05:21.408508700Z",
     "start_time": "2024-04-04T13:05:21.364511900Z"
    }
   },
   "id": "6492a4a07d7efaa9",
   "execution_count": 123
  },
  {
   "cell_type": "code",
   "outputs": [
    {
     "name": "stdout",
     "output_type": "stream",
     "text": [
      "--------age---------\n",
      "[58 44 33 47 35 28 42 43 41 29 53 57 51 45 60 56 32 25 40 39 52 46 36 49\n",
      " 59 37 50 54 55 48 24 38 31 30 27 34 23 26 61 22 21 20 66 62 83 75 67 70\n",
      " 65 68 64 69 72 71 19 76 85 63 90 82 73 74 78 80 94 79 77 86 95 81 18 89\n",
      " 84 87 92 93 88]\n",
      "--------job---------\n",
      "['management' 'technician' 'entrepreneur' 'blue-collar' 'unknown'\n",
      " 'retired' 'admin.' 'services' 'self-employed' 'unemployed' 'housemaid'\n",
      " 'student']\n",
      "--------marital---------\n",
      "['married' 'single' 'divorced']\n",
      "--------education---------\n",
      "['tertiary' 'secondary' 'unknown' 'primary']\n",
      "--------default---------\n",
      "['no' 'yes']\n",
      "--------balance---------\n",
      "[ 2143    29     2 ...  8205 14204 16353]\n",
      "--------housing---------\n",
      "['yes' 'no']\n",
      "--------loan---------\n",
      "['no' 'yes']\n",
      "--------contact---------\n",
      "['unknown' 'cellular' 'telephone']\n",
      "--------day---------\n",
      "[ 5  6  7  8  9 12 13 14 15 16 19 20 21 23 26 27 28 29 30  2  3  4 11 17\n",
      " 18 24 25  1 10 22 31]\n",
      "--------month---------\n",
      "['may' 'jun' 'jul' 'aug' 'oct' 'nov' 'dec' 'jan' 'feb' 'mar' 'apr' 'sep']\n",
      "--------duration---------\n",
      "[ 261  151   76 ... 1298 1246 1556]\n",
      "--------campaign---------\n",
      "[ 1  2  3  5  4  6  7  8  9 10 11 12 13 19 14 24 16 32 18 22 15 17 25 21\n",
      " 43 51 63 41 26 28 55 50 38 23 20 29 31 37 30 46 27 58 33 35 34 36 39 44]\n",
      "--------pdays---------\n",
      "[ -1 151 166  91  86 143 147  89 140 176 101 174 170 167 195 165 129 188\n",
      " 196 172 118 119 104 171 117 164 132 131 123 159 186 111 115 116 173 178\n",
      " 110 152  96 103 150 175 193 181 185 154 145 138 126 180 109 158 168  97\n",
      " 182 127 130 194 125 105 102  26 179  28 183 155 112 120 137 124 187 190\n",
      " 113 162 134 169 189   8 144 191 184 177   5  99 133  93  92  10 100 156\n",
      " 198 106 153 146 128   7 121 160 107  90  27 197 136 139 122 157 149 135\n",
      "  30 114  98 192 163  34  95 141  31 199  94 108  29 268 247 253 226 244\n",
      " 239 245 204 231 238 258 230 254 265  71 223 246 250 266 240 205 261 259\n",
      " 241 260 234 251 225 161 237 262 248 255 220 227 206 224 249 235 228 263\n",
      "   2 270 232 252 207 200 269 233 256 273 272 242 264 208 214 222 271 203\n",
      " 221 202 216 201 257 229 210 217  75 213  73  76 267 211 215  77 236  82\n",
      "   6 209 274   1 243 212 275  80 276   9 279  12 280  88 277  85  84 219\n",
      "  24  21 282  41 294  49 329 307 303 331 308 300  64 314 287 330 332 302\n",
      " 323 318 333  60 326 335 313 312 305 325 327 336 309 328 322  39 316 292\n",
      " 295 310 306 320 317 289  57 321 142 339 301 315 337 334 340 319  17  74\n",
      " 148 341 299 344 342 324 345 346 304 281 343 338  14 347  15 291 348 349\n",
      " 285 350 284  25 283 278  81   4  87  83  79  70  13 293  37  78  63  22\n",
      " 296 355  66  19  35 360 357 354 351 362 358 365 298 286 364 363  47 361\n",
      " 288 366 356 352 359 297 367 353 368  42 290  67 371 370 369  50  36 373\n",
      " 374 372 311 375 378  59 379  40  18  43  20  69  38 385  56  55  44 391\n",
      "  72 390  32  62 399 393  65 377 395 388 389 386  61 412 405 434 394 382\n",
      " 459 440 397 383  68 461 462 463 422  51 457 430 442 403 454 428 392 410\n",
      " 401 474 475 477 478  54 476 380 479  45  46 495  58  48 518  52 515 520\n",
      " 511 536 387 218  33 544 435 436 555 433 446 558 469 616 561 553 384 592\n",
      " 467 585 480 421 667 626 426 595 381 376 648 521 452 449 633 398  53 460\n",
      " 670 551 414 557 687 404 651 686 425 504 578 674 416 586 411 756 450 745\n",
      " 514 417 424 776 396 683 529 439 415 456 407 458 532 481 791 701 531 792\n",
      " 413 445 535 784 419 455 491 431 542 470 472 717 437   3 782 728 828 524\n",
      " 562 761 492 775 579 493 464 760 466 465 656 831 490 432 655 427 749 838\n",
      " 769 587 778 854 779 850 771 594 842 589 603 484 489 486 409 444 680 808\n",
      " 485 503 690 772 774 526 420 528 500 826 804 508 547 805 541 543 871 550\n",
      " 530]\n",
      "--------previous---------\n",
      "[  0   3   1   4   2  11  16   6   5  10  12   7  18   9  21   8  14  15\n",
      "  26  37  13  25  20  27  17  23  38  29  24  51 275  22  19  30  58  28\n",
      "  32  40  55  35  41]\n",
      "--------poutcome---------\n",
      "['unknown' 'failure' 'other' 'success']\n",
      "--------y---------\n",
      "['no' 'yes']\n"
     ]
    }
   ],
   "source": [
    "for column in data.columns:\n",
    "    print(f\"--------{column}---------\")\n",
    "    unique_values = data[column].unique()\n",
    "    print(unique_values)"
   ],
   "metadata": {
    "collapsed": false,
    "ExecuteTime": {
     "end_time": "2024-04-04T13:05:21.549510900Z",
     "start_time": "2024-04-04T13:05:21.505511500Z"
    }
   },
   "id": "a5059557a76a4c2e",
   "execution_count": 124
  },
  {
   "cell_type": "code",
   "outputs": [
    {
     "name": "stdout",
     "output_type": "stream",
     "text": [
      "Categorical variables:\n",
      "['job', 'marital', 'education', 'default', 'housing', 'loan', 'contact', 'month', 'poutcome', 'y']\n",
      "\n",
      "Categorical variables with 'unknown':\n",
      "['job', 'education', 'poutcome']\n",
      "\n",
      "Categorical variables without 'unknown'\n",
      "['marital', 'default', 'housing', 'loan', 'contact', 'month', 'y']\n"
     ]
    }
   ],
   "source": [
    "'''\n",
    "unknown in job\n",
    "unknown in education\n",
    "unknown in poutcome\n",
    "'''\n",
    "s = (data.dtypes == 'object')\n",
    "object_cols = list(s[s].index)\n",
    "print(\"Categorical variables:\")\n",
    "print(object_cols)\n",
    "\n",
    "print(\"\\nCategorical variables with 'unknown':\")\n",
    "cols_with_unknown = ['job', 'education', 'poutcome']\n",
    "print(cols_with_unknown)\n",
    "\n",
    "print(\"\\nCategorical variables without 'unknown'\")\n",
    "cols_without_unknown = [col for col in object_cols if col not in cols_with_unknown]\n",
    "print(cols_without_unknown)"
   ],
   "metadata": {
    "collapsed": false,
    "ExecuteTime": {
     "end_time": "2024-04-04T13:05:21.761542800Z",
     "start_time": "2024-04-04T13:05:21.723509400Z"
    }
   },
   "id": "8e27eb8ac11ac169",
   "execution_count": 125
  },
  {
   "cell_type": "markdown",
   "source": [
    "### 'yes' - 'no' Binary Values"
   ],
   "metadata": {
    "collapsed": false
   },
   "id": "2e8d4deb2a7e8333"
  },
  {
   "cell_type": "code",
   "outputs": [],
   "source": [
    "# 'yes' - 'no' binary values\n",
    "data['default'] = data['default'].replace({'yes':1, 'no':0})\n",
    "data['housing'] = data['housing'].replace({'yes':1, 'no':0})\n",
    "data['loan'] = data['loan'].replace({'yes':1, 'no':0})\n",
    "data['y'] = data['y'].replace({'yes':1, 'no':0})"
   ],
   "metadata": {
    "collapsed": false,
    "ExecuteTime": {
     "end_time": "2024-04-04T13:05:22.034554200Z",
     "start_time": "2024-04-04T13:05:21.972539Z"
    }
   },
   "id": "833bdbf30c3a539d",
   "execution_count": 126
  },
  {
   "cell_type": "markdown",
   "source": [
    "### 'education'"
   ],
   "metadata": {
    "collapsed": false
   },
   "id": "19e9f452ad35f40e"
  },
  {
   "cell_type": "code",
   "outputs": [
    {
     "data": {
      "text/plain": "array(['tertiary', 'secondary', 'primary'], dtype=object)"
     },
     "execution_count": 127,
     "metadata": {},
     "output_type": "execute_result"
    }
   ],
   "source": [
    "data.loc[(data.education == \"unknown\") & (data.job == \"admin.\"),\"education\"] = \"secondary\"\n",
    "data.loc[(data.education == \"unknown\") & (data.job == \"management\"),\"education\"] = \"secondary\"\n",
    "data.loc[(data.education == \"unknown\") & (data.job == \"services\"),\"education\"] = \"tertiary\"\n",
    "data.loc[(data.education == \"unknown\") & (data.job == \"technician.\"),\"education\"] = \"secondary\"\n",
    "data.loc[(data.education == \"unknown\") & (data.job == \"retired\"),\"education\"] = \"secondary\"\n",
    "data.loc[(data.education == \"unknown\") & (data.job == \"blue-collar\"),\"education\"] = \"secondary\"\n",
    "data.loc[(data.education == \"unknown\") & (data.job == \"housemaid.\"),\"education\"] = \"primary\"\n",
    "data.loc[(data.education == \"unknown\") & (data.job == \"self-employed\"),\"education\"] = \"tertiary\"\n",
    "data.loc[(data.education == \"unknown\") & (data.job == \"student\"),\"education\"] = \"secondary\"\n",
    "data.loc[(data.education == \"unknown\") & (data.job == \"entrepreneur\"),\"education\"] = \"tertiary\"\n",
    "data.loc[(data.education == \"unknown\") & (data.job == \"unemployed\"),\"education\"] = \"secondary\"\n",
    "#REST CAN BE SECONDARY\n",
    "data.loc[(data.education == \"unknown\"),\"education\"] = \"secondary\"\n",
    "data.education.unique()"
   ],
   "metadata": {
    "collapsed": false,
    "ExecuteTime": {
     "end_time": "2024-04-04T13:05:22.381624800Z",
     "start_time": "2024-04-04T13:05:22.305630900Z"
    }
   },
   "id": "2f850d62542f667b",
   "execution_count": 127
  },
  {
   "cell_type": "code",
   "outputs": [],
   "source": [
    "data['education'] = data['education'].replace({'primary':1, 'secondary':2, 'tertiary':3})"
   ],
   "metadata": {
    "collapsed": false,
    "ExecuteTime": {
     "end_time": "2024-04-04T13:05:22.525626200Z",
     "start_time": "2024-04-04T13:05:22.460629200Z"
    }
   },
   "id": "12249e86d341386",
   "execution_count": 128
  },
  {
   "cell_type": "markdown",
   "source": [
    "### 'contact'"
   ],
   "metadata": {
    "collapsed": false
   },
   "id": "ad39e7c5ec3174f3"
  },
  {
   "cell_type": "code",
   "outputs": [
    {
     "data": {
      "text/plain": "array(['cellular', 'telephone'], dtype=object)"
     },
     "execution_count": 129,
     "metadata": {},
     "output_type": "execute_result"
    }
   ],
   "source": [
    "data.loc[(data.contact == \"unknown\") & (data.y == 1),\"contact\"] = \"telephone\"\n",
    "data.loc[(data.contact == \"unknown\") & (data.y == 0),\"contact\"] = \"cellular\"\n",
    "data.contact.unique()"
   ],
   "metadata": {
    "collapsed": false,
    "ExecuteTime": {
     "end_time": "2024-04-04T13:05:23.090833200Z",
     "start_time": "2024-04-04T13:05:23.055837300Z"
    }
   },
   "id": "624a947f4d7d7cff",
   "execution_count": 129
  },
  {
   "cell_type": "markdown",
   "source": [
    "### 'month'"
   ],
   "metadata": {
    "collapsed": false
   },
   "id": "cea7e553c6b97835"
  },
  {
   "cell_type": "code",
   "outputs": [],
   "source": [
    "month_categories = ['jan', 'feb', 'mar', 'apr', 'may', 'jun', 'jul', 'aug', 'sep', 'oct', 'nov', 'dec']\n",
    "for i, mon in enumerate(month_categories):\n",
    "    data['month'] = data['month'].replace({mon:i+1})"
   ],
   "metadata": {
    "collapsed": false,
    "ExecuteTime": {
     "end_time": "2024-04-04T13:05:24.903671100Z",
     "start_time": "2024-04-04T13:05:24.800659500Z"
    }
   },
   "id": "7d21cdfce21191e9",
   "execution_count": 130
  },
  {
   "cell_type": "markdown",
   "source": [
    "### Rest Categorical Var. "
   ],
   "metadata": {
    "collapsed": false
   },
   "id": "672ec2a8323ed2b7"
  },
  {
   "cell_type": "code",
   "outputs": [
    {
     "name": "stdout",
     "output_type": "stream",
     "text": [
      "Categorical variables:\n",
      "['job', 'marital', 'contact', 'poutcome']\n"
     ]
    }
   ],
   "source": [
    "s = (data.dtypes == 'object')\n",
    "object_cols = list(s[s].index)\n",
    "print(\"Categorical variables:\")\n",
    "print(object_cols)"
   ],
   "metadata": {
    "collapsed": false,
    "ExecuteTime": {
     "end_time": "2024-04-04T13:05:25.531789700Z",
     "start_time": "2024-04-04T13:05:25.512805100Z"
    }
   },
   "id": "844f85b249bc5cc7",
   "execution_count": 131
  },
  {
   "cell_type": "code",
   "outputs": [],
   "source": [
    "encoder = OrdinalEncoder(dtype=np.int64)\n",
    "data[object_cols] = encoder.fit_transform(data[object_cols])"
   ],
   "metadata": {
    "collapsed": false,
    "ExecuteTime": {
     "end_time": "2024-04-04T13:05:26.152574200Z",
     "start_time": "2024-04-04T13:05:26.103575600Z"
    }
   },
   "id": "9ed435b2290cc488",
   "execution_count": 132
  },
  {
   "cell_type": "code",
   "outputs": [
    {
     "name": "stdout",
     "output_type": "stream",
     "text": [
      "<class 'pandas.core.frame.DataFrame'>\n",
      "Index: 49732 entries, 0 to 4520\n",
      "Data columns (total 17 columns):\n",
      " #   Column     Non-Null Count  Dtype\n",
      "---  ------     --------------  -----\n",
      " 0   age        49732 non-null  int64\n",
      " 1   job        49732 non-null  int64\n",
      " 2   marital    49732 non-null  int64\n",
      " 3   education  49732 non-null  int64\n",
      " 4   default    49732 non-null  int64\n",
      " 5   balance    49732 non-null  int64\n",
      " 6   housing    49732 non-null  int64\n",
      " 7   loan       49732 non-null  int64\n",
      " 8   contact    49732 non-null  int64\n",
      " 9   day        49732 non-null  int64\n",
      " 10  month      49732 non-null  int64\n",
      " 11  duration   49732 non-null  int64\n",
      " 12  campaign   49732 non-null  int64\n",
      " 13  pdays      49732 non-null  int64\n",
      " 14  previous   49732 non-null  int64\n",
      " 15  poutcome   49732 non-null  int64\n",
      " 16  y          49732 non-null  int64\n",
      "dtypes: int64(17)\n",
      "memory usage: 6.8 MB\n"
     ]
    }
   ],
   "source": [
    "data.info()"
   ],
   "metadata": {
    "collapsed": false,
    "ExecuteTime": {
     "end_time": "2024-04-04T13:05:27.481383600Z",
     "start_time": "2024-04-04T13:05:27.451386900Z"
    }
   },
   "id": "467795fb0627accb",
   "execution_count": 133
  },
  {
   "cell_type": "markdown",
   "source": [
    "# Model"
   ],
   "metadata": {
    "collapsed": false
   },
   "id": "db7b0bbf3e7a204c"
  },
  {
   "cell_type": "code",
   "outputs": [],
   "source": [
    "import torch"
   ],
   "metadata": {
    "collapsed": false,
    "ExecuteTime": {
     "end_time": "2024-04-04T13:05:30.880200Z",
     "start_time": "2024-04-04T13:05:30.861141200Z"
    }
   },
   "id": "fb497f5befdaa4b7",
   "execution_count": 134
  },
  {
   "cell_type": "code",
   "outputs": [],
   "source": [
    "y = data['y']\n",
    "X = data.drop(columns = ['y'])\n",
    "\n",
    "y = y.to_numpy()\n",
    "X = X.to_numpy()\n",
    "\n",
    "y = torch.tensor(y, dtype=torch.int64)\n",
    "X = torch.tensor(X, dtype=torch.int64)"
   ],
   "metadata": {
    "collapsed": false,
    "ExecuteTime": {
     "end_time": "2024-04-04T13:05:40.646348Z",
     "start_time": "2024-04-04T13:05:40.628351600Z"
    }
   },
   "id": "1c87dfee043fad69",
   "execution_count": 135
  },
  {
   "cell_type": "code",
   "outputs": [
    {
     "data": {
      "text/plain": "torch.Size([49732, 16])"
     },
     "execution_count": 148,
     "metadata": {},
     "output_type": "execute_result"
    }
   ],
   "source": [
    "X.size()"
   ],
   "metadata": {
    "collapsed": false,
    "ExecuteTime": {
     "end_time": "2024-04-04T13:17:16.257712Z",
     "start_time": "2024-04-04T13:17:16.229536900Z"
    }
   },
   "id": "4e8c44596f6e76b",
   "execution_count": 148
  },
  {
   "cell_type": "code",
   "outputs": [],
   "source": [
    "import torch.nn as nn\n",
    "import torch.nn.functional as F"
   ],
   "metadata": {
    "collapsed": false
   },
   "id": "4c76d225939e62f6"
  },
  {
   "cell_type": "code",
   "outputs": [],
   "source": [
    "class Net(nn.Module):\n",
    "    def __init__(self):\n",
    "        super(Net,self).__init_()\n",
    "        self.fc1 = nn.Linear(16, 160)\n",
    "        self.fc2 = nn.Linear(160, 80)\n",
    "        self.fc3 = nn.Linear(80, 40) \n",
    "        self.fc3 = nn.Linear(40, 1) ###########neden 1, # of classes=2? dimension?\n",
    "        self.relu = F.relu()\n",
    "        self.sigmoid = nn.Sigmoid()\n",
    "        \n",
    "    def forward(self, x):\n",
    "        x = self.relu(self.fc1(x))\n",
    "        x = self.relu(self.fc2(x))\n",
    "        x = self.sigmoid(self.fc3(x))"
   ],
   "metadata": {
    "collapsed": false,
    "ExecuteTime": {
     "end_time": "2024-04-04T13:25:00.327604Z",
     "start_time": "2024-04-04T13:25:00.298193500Z"
    }
   },
   "id": "7a1f80a0e095c85f",
   "execution_count": 151
  },
  {
   "cell_type": "code",
   "outputs": [],
   "source": [],
   "metadata": {
    "collapsed": false
   },
   "id": "744db46765857662"
  }
 ],
 "metadata": {
  "kernelspec": {
   "display_name": "Python 3",
   "language": "python",
   "name": "python3"
  },
  "language_info": {
   "codemirror_mode": {
    "name": "ipython",
    "version": 2
   },
   "file_extension": ".py",
   "mimetype": "text/x-python",
   "name": "python",
   "nbconvert_exporter": "python",
   "pygments_lexer": "ipython2",
   "version": "2.7.6"
  }
 },
 "nbformat": 4,
 "nbformat_minor": 5
}
